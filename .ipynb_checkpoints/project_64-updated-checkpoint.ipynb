{
 "cells": [
  {
   "cell_type": "markdown",
   "metadata": {},
   "source": [
    "# COGS 118B - Final Project"
   ]
  },
  {
   "cell_type": "markdown",
   "metadata": {},
   "source": [
    "# Finding Waldo \n",
    "\n",
    "## Group members\n",
    "\n",
    "- Lillian Wood\n",
    "- Taha Alam\n",
    "- Zichen ‘Cardiff’ Jiang\n",
    "- Will Lutz\n",
    "- Sara Shao"
   ]
  },
  {
   "cell_type": "markdown",
   "metadata": {},
   "source": [
    "# Introduction\n",
    "In our project, we will perform PCA analysis on images of the character, Waldo, from Where’s Waldo to identify whether or not a test image is a picture of Waldo.\n",
    "\n",
    "Utilizing a dataset of black and white images of Waldo, we will reduce the dimensionality of the vectorized images by calculating the eigenvalues and eigenvectors of the original image to reconstruct an image of Waldo in a smaller subspace. Once the eigenface is constructed using x number of principal components, we will be able to calculate the Euclidean distance between this constructed image and test images of both Waldo and non-Waldo projected into the same subspace to identify if the image is a picture of Waldo. The goal of this project is to elaborate on the topic of PCA that was discussed in class and present it in a fun and interactive way.\n",
    "\n",
    "This project is important because finding Waldo manually is extremely tricky and time-consuming, sometimes ranging. Therefore, this intuitive PCA method to automatically find Waldo is needed."
   ]
  },
  {
   "cell_type": "markdown",
   "metadata": {},
   "source": [
    "# Related Work\n",
    "\n",
    "Our project is based on the PCA example presented in class and in the homework. We will take the same steps to create the eigenfaces of our training and test sets of images. Once we create the eigenfaces for Waldo, we will follow the methods described in Liton Chandra Paul and Abdulla Al Sumam (2012) <a name=\"relatedwork\"></a> [1](#relatedwork) in order to calculate the distance between the eigenfaces of the test images and the eigenfaces of the training images when projected into the subspace."
   ]
  },
  {
   "cell_type": "markdown",
   "metadata": {},
   "source": [
    "# Methods\n",
    "Briefly, we collected 22 Waldo images, randomly vectorize 21 of them, and put these 21 vectors into a matrix. PCA will be done using these 21 images. The 22nd Waldo image will be used to test whether our eigenfaces can reconstruct this new image. Lastly, we tested our eigenfaces on a whole puzzle by breaking down the puzzle image to little square boxes and finding the box that has Waldo's face in it through reconstruction distance calculation.\n",
    "\n",
    "### Collecting images\n",
    "We collected images from various sources, including https://www.localguidesconnect.com/t5/General-Discussion/Alert-Answers-included-Waldo-Answers-if-you-guys-are-struggling/td-p/722677, https://petitefoxdesigns.wordpress.com/2015/11/05/wheres-waldo-wednesday-in-town/, https://github.com/wirooo/FolloWaldo, and so on. We whimsically selected some images from these websites, downloaded them, and manually croped them to a square where the tip of Waldo's right ear and Waldo's left cheekbone are roughly aligned at the same coordinates across cropped images. These images are named 1 to 22.jpg in `waldo_manual/`.\n",
    "\n",
    "### Vectorizing Images\n",
    "Each manually cropped images that roughly align with each other are of different pixel sizes. So we used `myimage.resize((x, x))` to resize each image to the same dimension so that the column vector representation of each image has the same size. 21 of the 22 Waldo images are used to form the input matrix that will be used to generate our eigenfaces.\n",
    "\n",
    "### PCA\n",
    "Explaination\n",
    "\n",
    "### Reconstruction Distance Function\n",
    "Explaination"
   ]
  },
  {
   "cell_type": "markdown",
   "metadata": {},
   "source": [
    "# Results\n",
    "Results - What did you discover? How well did it work?  As this is a class project, it is likely that many things did not work as well as planned.  For this project, detailing what went wrong is as important as describing what went well.  (approx 7 points)\n",
    "\n",
    "### Preparing the images\n",
    "\n",
    "vectorizing images explanation and code below"
   ]
  },
  {
   "cell_type": "code",
   "execution_count": 1,
   "metadata": {},
   "outputs": [],
   "source": [
    "import numpy as np\n",
    "import scipy.io as sio\n",
    "import matplotlib\n",
    "import matplotlib.pyplot as plt\n",
    "from numpy.matlib import repmat\n",
    "from sklearn.preprocessing import normalize\n",
    "import time\n",
    "from PIL import Image\n",
    "import random\n",
    "%matplotlib inline\n",
    "import pandas as pd\n",
    "import os"
   ]
  },
  {
   "cell_type": "code",
   "execution_count": 2,
   "metadata": {},
   "outputs": [],
   "source": [
    "# Ex. waldo_matrix = vectorize(100, 21, 'waldo_manual')\n",
    "# 22 Waldo pictures are turned into a 30000 by 1 (100 pixel x 100 pixel x 3) column vector. So each col of this 40000 by 22 matrix is one of the pictures.\n",
    "def vectorize(pixel, pic_num, pic_dir):\n",
    "    pic_dim = pixel * pixel * 3\n",
    "    A = np.empty([pic_dim, pic_num])\n",
    "\n",
    "    file_ls = []\n",
    "    for filename in os.listdir(pic_dir):\n",
    "        f = os.path.join(pic_dir, filename)\n",
    "        file_ls.append(f)\n",
    "\n",
    "    for i in range(len(file_ls)):\n",
    "        f = file_ls[i]\n",
    "        print(f)\n",
    "        img = Image.open(f).convert('RGB')\n",
    "        img_resized = img.resize((pixel, pixel))\n",
    "        arr = np.array(img_resized)\n",
    "        flat_arr = arr.ravel()\n",
    "        v = np.matrix(flat_arr)\n",
    "        col_v = v.T\n",
    "        A[:, i][:, np.newaxis] = col_v\n",
    "        i += 1\n",
    "    return A"
   ]
  },
  {
   "cell_type": "code",
   "execution_count": 3,
   "metadata": {},
   "outputs": [],
   "source": [
    "# Ex. viewimage(waldo_input[:, 8], pixel)\n",
    "def viewimage(vector, pixel):\n",
    "    # Showing the 8th picture from the matrix\n",
    "    vector_uint8 = vector.astype(np.uint8)\n",
    "    shape = (pixel, pixel, 3)\n",
    "    reconstruct_arr = np.asarray(vector_uint8).reshape(shape)\n",
    "    reconstruct_img = Image.fromarray(reconstruct_arr, 'RGB')\n",
    "    reconstruct_img.show()"
   ]
  },
  {
   "cell_type": "code",
   "execution_count": 4,
   "metadata": {},
   "outputs": [
    {
     "name": "stdout",
     "output_type": "stream",
     "text": [
      "waldo_manual\\1.jpg\n",
      "waldo_manual\\10.jpg\n",
      "waldo_manual\\11.jpg\n",
      "waldo_manual\\12.jpg\n",
      "waldo_manual\\13.jpg\n",
      "waldo_manual\\14.jpg\n",
      "waldo_manual\\15.jpg\n",
      "waldo_manual\\16.jpg\n",
      "waldo_manual\\17.jpg\n",
      "waldo_manual\\18.jpg\n",
      "waldo_manual\\19.jpg\n",
      "waldo_manual\\2.jpg\n",
      "waldo_manual\\20.jpg\n",
      "waldo_manual\\21.jpg\n",
      "waldo_manual\\22.jpg\n",
      "waldo_manual\\3.jpg\n",
      "waldo_manual\\4.jpg\n",
      "waldo_manual\\5.jpg\n",
      "waldo_manual\\6.jpg\n",
      "waldo_manual\\7.jpg\n",
      "waldo_manual\\8.jpg\n",
      "waldo_manual\\9.jpg\n"
     ]
    },
    {
     "data": {
      "text/plain": [
       "(30000, 22)"
      ]
     },
     "execution_count": 4,
     "metadata": {},
     "output_type": "execute_result"
    }
   ],
   "source": [
    "pixel = 100\n",
    "num = 22\n",
    "data = vectorize(pixel, num, 'waldo_manual')\n",
    "data.shape"
   ]
  },
  {
   "cell_type": "code",
   "execution_count": 5,
   "metadata": {},
   "outputs": [],
   "source": [
    "# viewimage(data[:, 8], 100)"
   ]
  },
  {
   "cell_type": "markdown",
   "metadata": {},
   "source": [
    "### PCA\n",
    "\n",
    "PCA explanation and code below"
   ]
  },
  {
   "cell_type": "code",
   "execution_count": 6,
   "metadata": {},
   "outputs": [],
   "source": [
    "def eigsort(V, eigvals):\n",
    "    \n",
    "    # Sort the eigenvalues from largest to smallest. Store the sorted\n",
    "    # eigenvalues in the column vector lambd.\n",
    "    lohival = np.sort(eigvals)\n",
    "    lohiindex = np.argsort(eigvals)\n",
    "    lambd = np.flip(lohival)\n",
    "    index = np.flip(lohiindex)\n",
    "    Dsort = np.diag(lambd)\n",
    "    \n",
    "    # Sort eigenvectors to correspond to the ordered eigenvalues. Store sorted\n",
    "    # eigenvectors as columns of the matrix vsort.\n",
    "    M = np.size(lambd)\n",
    "    Vsort = np.zeros((M, M))\n",
    "    for i in range(M):\n",
    "        Vsort[:,i] = V[:,index[i]]\n",
    "    return Vsort, Dsort\n"
   ]
  },
  {
   "cell_type": "code",
   "execution_count": 7,
   "metadata": {},
   "outputs": [],
   "source": [
    "# normc(M) normalizes the columns of M to a length of 1.\n",
    "def normc(Mat):\n",
    "    return normalize(Mat, norm='l2', axis=0)\n"
   ]
  },
  {
   "cell_type": "code",
   "execution_count": 8,
   "metadata": {},
   "outputs": [
    {
     "data": {
      "text/plain": [
       "array([[146.18181818],\n",
       "       [158.68181818],\n",
       "       [122.95454545],\n",
       "       ...,\n",
       "       [163.72727273],\n",
       "       [135.63636364],\n",
       "       [124.68181818]])"
      ]
     },
     "execution_count": 8,
     "metadata": {},
     "output_type": "execute_result"
    }
   ],
   "source": [
    "meanface = np.mean(data, axis=1)\n",
    "meanface = meanface[:, np.newaxis]\n",
    "meanface"
   ]
  },
  {
   "cell_type": "code",
   "execution_count": 9,
   "metadata": {},
   "outputs": [
    {
     "data": {
      "text/plain": [
       "(30000, 22)"
      ]
     },
     "execution_count": 9,
     "metadata": {},
     "output_type": "execute_result"
    }
   ],
   "source": [
    "(np.matlib.repmat(meanface, 1, num)).shape"
   ]
  },
  {
   "cell_type": "code",
   "execution_count": 10,
   "metadata": {},
   "outputs": [
    {
     "data": {
      "text/plain": [
       "(30000, 22)"
      ]
     },
     "execution_count": 10,
     "metadata": {},
     "output_type": "execute_result"
    }
   ],
   "source": [
    "data.shape"
   ]
  },
  {
   "cell_type": "markdown",
   "metadata": {},
   "source": [
    "Subtract the mean from all of the data (using the command numpy.matlib.repmat), and call the matrix of mean-subtracted data A"
   ]
  },
  {
   "cell_type": "code",
   "execution_count": 11,
   "metadata": {},
   "outputs": [],
   "source": [
    "A = data - np.matlib.repmat(meanface, 1, num)"
   ]
  },
  {
   "cell_type": "code",
   "execution_count": 12,
   "metadata": {},
   "outputs": [],
   "source": [
    "eigvals, Vold = np.linalg.eig(A.T.dot(A))"
   ]
  },
  {
   "cell_type": "code",
   "execution_count": 13,
   "metadata": {},
   "outputs": [],
   "source": [
    "V, D = eigsort(Vold, eigvals)"
   ]
  },
  {
   "cell_type": "code",
   "execution_count": 14,
   "metadata": {},
   "outputs": [
    {
     "data": {
      "text/plain": [
       "(30000, 22)"
      ]
     },
     "execution_count": 14,
     "metadata": {},
     "output_type": "execute_result"
    }
   ],
   "source": [
    "U = A.dot(V)\n",
    "#then normalize\n",
    "U = normc(U)\n",
    "U.shape"
   ]
  },
  {
   "cell_type": "code",
   "execution_count": 15,
   "metadata": {},
   "outputs": [],
   "source": [
    "#PCA\n",
    "C = U.T.dot(data - meanface)"
   ]
  },
  {
   "cell_type": "code",
   "execution_count": 16,
   "metadata": {},
   "outputs": [],
   "source": [
    "i = random.randint(0,21)"
   ]
  },
  {
   "cell_type": "code",
   "execution_count": 17,
   "metadata": {},
   "outputs": [],
   "source": [
    "viewimage(data[:, i], pixel)"
   ]
  },
  {
   "cell_type": "code",
   "execution_count": 18,
   "metadata": {},
   "outputs": [],
   "source": [
    "# reconstruct the 1st Waldo image in the input matrix \"data\"\n",
    "c=C[:,i][:, np.newaxis]\n",
    "xhat=U.dot(c) + meanface\n",
    "viewimage(xhat, pixel)"
   ]
  },
  {
   "cell_type": "markdown",
   "metadata": {},
   "source": [
    "### Reconstruction Distance Function\n",
    "\n",
    " explanation and code below"
   ]
  },
  {
   "cell_type": "code",
   "execution_count": 19,
   "metadata": {},
   "outputs": [],
   "source": [
    "# original is flattened col vector of a face\n",
    "def dist(original, reconstruction):\n",
    "    return np.sum((original - reconstruction)**2)"
   ]
  },
  {
   "cell_type": "code",
   "execution_count": 20,
   "metadata": {},
   "outputs": [
    {
     "data": {
      "text/plain": [
       "1558549.0029328666"
      ]
     },
     "execution_count": 20,
     "metadata": {},
     "output_type": "execute_result"
    }
   ],
   "source": [
    "original = data[:, i][:, np.newaxis]\n",
    "reconstruct_dist = dist(original, xhat)\n",
    "reconstruct_dist"
   ]
  },
  {
   "cell_type": "markdown",
   "metadata": {},
   "source": [
    "### Reconstruct after removing the 6th Waldo image"
   ]
  },
  {
   "cell_type": "code",
   "execution_count": 21,
   "metadata": {},
   "outputs": [],
   "source": [
    "# viewimage(data[:,i], pixel)\n",
    "newfaces = np.delete(data,np.s_[i],axis=1)\n",
    "newmeanface = np.mean(newfaces, axis=1, keepdims = True)\n",
    "A2 = newfaces - newmeanface\n",
    "\n",
    "eigvals2, Vold2 = np.linalg.eig(A2.T.dot(A2))\n",
    "V2, D2 = eigsort(Vold2, eigvals2)\n",
    "U2 = A2 @ V2\n",
    "U2 = normc(U2)\n",
    "c2 = U2.T.dot(data[:,i][:, np.newaxis] - meanface)\n",
    "Zhat_all2 = U2.dot(c2) + meanface\n",
    "viewimage(Zhat_all2, pixel)"
   ]
  },
  {
   "cell_type": "code",
   "execution_count": 22,
   "metadata": {},
   "outputs": [
    {
     "name": "stdout",
     "output_type": "stream",
     "text": [
      "reconstruct_missing_image_dist - reconstruct_dist = 85337476.07495554 \n",
      "reconstruct_missing_image_dist > reconstruct_dist\n"
     ]
    }
   ],
   "source": [
    "original = data[:, i][:, np.newaxis]\n",
    "reconstruct_missing_image_dist = dist(original, Zhat_all2)\n",
    "diff = reconstruct_missing_image_dist-reconstruct_dist\n",
    "print(\"reconstruct_missing_image_dist - reconstruct_dist =\", diff, \"\\nreconstruct_missing_image_dist > reconstruct_dist\")"
   ]
  },
  {
   "cell_type": "markdown",
   "metadata": {},
   "source": [
    "### Reconstruct a non-Waldo image"
   ]
  },
  {
   "cell_type": "code",
   "execution_count": 23,
   "metadata": {},
   "outputs": [],
   "source": [
    "f = 'non_waldo_manual/red.jpg'\n",
    "img = Image.open(f).convert('RGB')\n",
    "img_resized = img.resize((pixel, pixel))\n",
    "arr = np.array(img_resized)\n",
    "flat_arr = arr.ravel()\n",
    "v = np.matrix(flat_arr)\n",
    "nonWaldo = v.T\n",
    "# viewimage(nonWaldo, pixel)\n",
    "\n",
    "c3 = U.T.dot(nonWaldo - meanface)\n",
    "Zhat_all3 = U.dot(c3) + meanface\n",
    "# viewimage(Zhat_all3, pixel)"
   ]
  },
  {
   "cell_type": "code",
   "execution_count": 24,
   "metadata": {},
   "outputs": [],
   "source": [
    "f = 'non_waldo_manual/glasses.jpg'\n",
    "img = Image.open(f).convert('RGB')\n",
    "img_resized = img.resize((pixel, pixel))\n",
    "arr = np.array(img_resized)\n",
    "flat_arr = arr.ravel()\n",
    "v = np.matrix(flat_arr)\n",
    "nonWaldo = v.T\n",
    "# viewimage(nonWaldo, pixel)\n",
    "\n",
    "c3 = U.T.dot(nonWaldo - meanface)\n",
    "Zhat_all3 = U.dot(c3) + meanface\n",
    "# viewimage(Zhat_all3, pixel)"
   ]
  },
  {
   "cell_type": "markdown",
   "metadata": {},
   "source": [
    "### Finding Waldo"
   ]
  },
  {
   "cell_type": "code",
   "execution_count": 25,
   "metadata": {},
   "outputs": [],
   "source": [
    "f = 'puzzle_test/test.jpg'\n",
    "puzzle_pixel = 500\n",
    "img = Image.open(f).convert('RGB')\n",
    "img_resized = img.resize((puzzle_pixel, puzzle_pixel))\n",
    "arr = np.array(img_resized)\n",
    "\n",
    "box_ls = []\n",
    "row_ls = [0, 100, 200, 300, 400, 500]\n",
    "col_ls = [0, 100, 200, 300, 400, 500]\n",
    "for i in range(5):\n",
    "    for j in range(5):\n",
    "        box = arr[row_ls[i]:row_ls[i+1], row_ls[j]:row_ls[j+1]]\n",
    "        box_ls.append(box)\n"
   ]
  },
  {
   "cell_type": "code",
   "execution_count": 26,
   "metadata": {},
   "outputs": [
    {
     "name": "stdout",
     "output_type": "stream",
     "text": [
      "4.1 10266.150105657742\n"
     ]
    },
    {
     "data": {
      "image/png": "[encoded data removed]",
      "text/plain": [
       "<Figure size 432x288 with 1 Axes>"
      ]
     },
     "metadata": {
      "needs_background": "light"
     },
     "output_type": "display_data"
    }
   ],
   "source": [
    "# 19 is Waldo\n",
    "dist_ls = []\n",
    "for i in range(25):\n",
    "    flat_arr = box_ls[i].ravel()\n",
    "    v = np.matrix(flat_arr)\n",
    "    box_v = v.T\n",
    "    # viewimage(box_v, pixel)\n",
    "    c4 = U.T.dot(box_v - meanface)\n",
    "    Zhat_all4 = U.dot(c4) + meanface\n",
    "    # viewimage(Zhat_all4, pixel)\n",
    "    # sprint(box_v.shape, Zhat_all4.shape)\n",
    "    dist_ls.append(np.linalg.norm(Zhat_all4 - box_v))\n",
    "\n",
    "data = {'box': [0, 1, 2, 3, 4, 5, 6, 7, 8, 9, 10, 11, 12, 13, 14, 15, 16, 17, 18, 19, 20, 21, 22, 23, 24],\n",
    "        'recon_dist': dist_ls\n",
    "       }\n",
    "df = pd.DataFrame(data)\n",
    "\n",
    "min_x = np.argmin(data['recon_dist'])+0.1\n",
    "min_y = np.min(data['recon_dist'])\n",
    "plt.plot(df['box'], df['recon_dist'], marker='o');\n",
    "plt.scatter(min_x, min_y,c='r', label='minimum');\n",
    "plt.legend();\n",
    "plt.ylabel('reconstruction distance');\n",
    "plt.xlabel('box number');\n",
    "print(min_x, min_y)"
   ]
  },
  {
   "cell_type": "code",
   "execution_count": 27,
   "metadata": {},
   "outputs": [],
   "source": [
    "i = 4\n",
    "flat_arr = box_ls[i].ravel()\n",
    "v = np.matrix(flat_arr)\n",
    "box_v = v.T\n",
    "viewimage(box_v, pixel)\n",
    "c4 = U.T.dot(box_v - meanface)\n",
    "Zhat_all4 = U.dot(c4) + meanface\n",
    "viewimage(Zhat_all4, pixel)"
   ]
  },
  {
   "cell_type": "code",
   "execution_count": 33,
   "metadata": {},
   "outputs": [],
   "source": [
    "i = 19\n",
    "flat_arr = box_ls[i].ravel()\n",
    "v = np.matrix(flat_arr)\n",
    "box_v = v.T\n",
    "viewimage(box_v, pixel)\n",
    "c4 = U.T.dot(box_v - meanface)\n",
    "Zhat_all4 = U.dot(c4) + meanface\n",
    "viewimage(Zhat_all4, pixel)"
   ]
  },
  {
   "cell_type": "markdown",
   "metadata": {},
   "source": [
    "# Comparison to Related Work?\n",
    "\n",
    "if we have time, write about existing github repo"
   ]
  },
  {
   "cell_type": "markdown",
   "metadata": {},
   "source": [
    "# Discussion\n",
    "What did you learn?  What could you do better? (What would you\n",
    "have done next if you had more time)?.....  Why do you think it didn't work if it didn't?  \n",
    "If everything worked perfectly,  what next steps would you suggest for follow-up work.  For full credit discuss two extensions or improvements to your project with short justifications for why you think that would work better (improvements) or why they are promising extensions. (approx 7 points) \n",
    "\n",
    "\n",
    "- needing more training data\n",
    "- alignment is hard to control (like size and style, as well as orientation)\n",
    "- better resolution = better result\n",
    "- mention Here Is Wally... CNN may be the way to go"
   ]
  },
  {
   "cell_type": "markdown",
   "metadata": {},
   "source": [
    "# Author Contribution\n",
    "| Task      | Assignee |\n",
    "| ----------- | ----------- |\n",
    "| Introduction writing     | Will       |\n",
    "| Related Work writing  | Will        |\n",
    "| Finding puzzles with answers and cropping out Waldo | Cardiff and Lilly        |\n",
    "| Vectorizing Images and methods writing   | Cardiff        |\n",
    "| PCA and methods writing      | Sara       |\n",
    "| Reconstruction Distance Function and methods writing   | Lilly and Taha        |\n",
    "| Comparison to Related Work writing      |    []    |\n",
    "| Discussion writing  |  all     |\n",
    "| Editing | all |\n",
    "| Final review | Lilly |"
   ]
  },
  {
   "cell_type": "markdown",
   "metadata": {},
   "source": [
    "# Footnotes\n",
    "\n",
    "<a name=\"relatedwork\"></a>1.[^](#relatedwork): last name, first name. (year). name of article. article link<br>"
   ]
  }
 ],
 "metadata": {
  "kernelspec": {
   "display_name": "Python 3 (ipykernel)",
   "language": "python",
   "name": "python3"
  },
  "language_info": {
   "codemirror_mode": {
    "name": "ipython",
    "version": 3
   },
   "file_extension": ".py",
   "mimetype": "text/x-python",
   "name": "python",
   "nbconvert_exporter": "python",
   "pygments_lexer": "ipython3",
   "version": "3.9.12"
  },
  "vscode": {
   "interpreter": {
    "hash": "8a8e84e92a9047c5e1f92d8b75e5225db6346aa8f60b8ab121598a6d81c0a2c3"
   }
  }
 },
 "nbformat": 4,
 "nbformat_minor": 2
}
