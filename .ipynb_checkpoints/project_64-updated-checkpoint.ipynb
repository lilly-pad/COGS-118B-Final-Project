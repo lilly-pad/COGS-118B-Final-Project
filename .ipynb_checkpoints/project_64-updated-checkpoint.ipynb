{
 "cells": [
  {
   "cell_type": "markdown",
   "metadata": {},
   "source": [
    "# COGS 118B - Final Project"
   ]
  },
  {
   "cell_type": "markdown",
   "metadata": {},
   "source": [
    "# Finding Waldo \n",
    "\n",
    "## Group members\n",
    "\n",
    "- Lillian Wood\n",
    "- Taha Alam\n",
    "- Zichen \"Cardiff\" Jiang\n",
    "- Will Lutz\n",
    "- Sara Shao"
   ]
  },
  {
   "cell_type": "markdown",
   "metadata": {},
   "source": [
    "# Introduction\n",
    "For ages, people around the world have been asking the question, \"Where's Waldo?\" As humans, we know Waldo from his glasses and a red and white striped shirt and hat. Even though Waldo has become an iconic image, \"Where's Waldo?\" puzzles are no easier to solve. They are well-designed to hide Waldo from the human eye. In our project, we attempt to find Waldo through a less traditional method. We will perform PCA on images of the character, Waldo, from Where’s Waldo to identify whether or not a test image is a picture of Waldo.\n",
    "\n",
    "Utilizing a dataset of colored images of Waldo, we will reduce the dimensionality of the vectorized images by calculating the eigenvalues and eigenvectors of the original image to reconstruct an image of Waldo in a smaller subspace. Once the eigenface is constructed using all of the principal components, we will be able to calculate the Euclidean distance between this constructed image and test images of both Waldo and non-Waldo projected into the same subspace to identify if the image is a picture of Waldo. The goal of this project is to elaborate on the topic of PCA that was discussed in class and present it in a fun and interactive way.\n",
    "\n",
    "This project is significant because finding Waldo manually can be extremely tricky and time-consuming, sometimes ranging. Therefore, this intuitive PCA method to automatically find Waldo could be a handy way to find the solution to these puzzles when they are too tricky to solve by the human eye."
   ]
  },
  {
   "cell_type": "markdown",
   "metadata": {},
   "source": [
    "# Related Work\n",
    "\n",
    "Our project is based on the PCA example presented in class and in the homework. We will take the same steps to create the eigenfaces of our training and test sets of images. Once we create the eigenfaces for Waldo, we will follow the methods described in Liton Chandra Paul and Abdulla Al Sumam (2012) <a name=\"relatedwork\"></a> [1](#relatedwork) in order to calculate the distance between the eigenfaces of the test images and the eigenfaces of the training images when projected into the subspace. \n",
    "\n",
    "We also developed our ideas for this project by building off of related work in order to create an original functioning model. For example, Wagner et al. (2013) used PCA as an initial filter kernel for a Convolutional Network. Also, the github repo \"HereIsWally\" uses CNN to successfully find Waldo. "
   ]
  },
  {
   "cell_type": "markdown",
   "metadata": {},
   "source": [
    "# Methods\n",
    "Briefly, we collected 22 Waldo images and put these 22 column vectors into a matrix. PCA will be done using these 22 images to make our eigenfaces. We tested if reconstruction of an existing face works well through reconstruction distance calculation. Then we tested if reconstruction of a new Waldo image works. Lastly, we used a puzzle, divided it to equal sized boxes, and used PCA to find the box that has Waldo's face in it.\n",
    "\n",
    "### Collecting images\n",
    "##### Training \n",
    "We collected images from various sources, including https://www.localguidesconnect.com/t5/General-Discussion/Alert-Answers-included-Waldo-Answers-if-you-guys-are-struggling/td-p/722677, https://petitefoxdesigns.wordpress.com/2015/11/05/wheres-waldo-wednesday-in-town/, https://github.com/wirooo/FolloWaldo, and so on. We whimsically selected some images from these websites, downloaded them, and manually croped them to a square where the tip of Waldo's right ear and Waldo's left cheekbone are roughly aligned at the same coordinates across cropped images. These images are named 1 to 22.jpg in `waldo_manual/`.\n",
    "\n",
    "##### Testing\n",
    "1. A Waldo image from the 22 images\n",
    "2. Redo PCA after removing one of the 22 images, and reconstruct this removed iamge\n",
    "3. Two non-Waldo images\n",
    "4. A small puzzle cropped from a whole scene.\n",
    "\n",
    "### Vectorizing Images\n",
    "Each manually cropped images that roughly align with each other are of different pixel sizes, so we used `myimage.resize((x, x))` to resize each image to the same dimension so that the column vector representation of each image has the same size. 22 Waldo images are used to form the input matrix that will be used to generate our eigenfaces. These are first opened using Python Imaging Library (PIL) to open the image, resize the image, turn into a matrix, flatten the matrix to a row vector, transpose to a column vector, add the column to `data` matrix. See code below.\n",
    "\n",
    "### PCA\n",
    "PCA follows the exact same code as from lecture slides and homework. See code below.\n",
    "\n",
    "### Reconstruction Distance Function\n",
    "Explaination"
   ]
  },
  {
   "cell_type": "markdown",
   "metadata": {},
   "source": [
    "# Results\n",
    "Results - What did you discover? How well did it work?  As this is a class project, it is likely that many things did not work as well as planned.  For this project, detailing what went wrong is as important as describing what went well.  (approx 7 points)\n",
    "\n",
    "### Preparing the images"
   ]
  },
  {
   "cell_type": "code",
   "execution_count": 1,
   "metadata": {},
   "outputs": [],
   "source": [
    "import numpy as np\n",
    "import scipy.io as sio\n",
    "import matplotlib\n",
    "import matplotlib.pyplot as plt\n",
    "from numpy.matlib import repmat\n",
    "from sklearn.preprocessing import normalize\n",
    "import time\n",
    "from PIL import Image\n",
    "import random\n",
    "%matplotlib inline\n",
    "import pandas as pd\n",
    "import os"
   ]
  },
  {
   "cell_type": "code",
   "execution_count": 2,
   "metadata": {},
   "outputs": [],
   "source": [
    "# Ex. waldo_matrix = vectorize(100, 21, 'waldo_manual')\n",
    "# 22 Waldo pictures are turned into a 30000 by 1 (100 pixel x 100 pixel x 3) column vector. So each col of this 40000 by 22 matrix is one of the pictures.\n",
    "def vectorize(pixel, pic_num, pic_dir):\n",
    "    pic_dim = pixel * pixel * 3\n",
    "    A = np.empty([pic_dim, pic_num])\n",
    "\n",
    "    file_ls = []\n",
    "    for filename in os.listdir(pic_dir):\n",
    "        f = os.path.join(pic_dir, filename)\n",
    "        file_ls.append(f)\n",
    "\n",
    "    for i in range(len(file_ls)):\n",
    "        f = file_ls[i]\n",
    "        print(f)\n",
    "        img = Image.open(f).convert('RGB')\n",
    "        img_resized = img.resize((pixel, pixel))\n",
    "        arr = np.array(img_resized)\n",
    "        flat_arr = arr.ravel()\n",
    "        v = np.matrix(flat_arr)\n",
    "        col_v = v.T\n",
    "        A[:, i][:, np.newaxis] = col_v\n",
    "        i += 1\n",
    "    return A"
   ]
  },
  {
   "cell_type": "code",
   "execution_count": 3,
   "metadata": {},
   "outputs": [],
   "source": [
    "# Ex. viewimage(waldo_input[:, 8], pixel)\n",
    "def viewimage(vector, pixel):\n",
    "    # Showing the 8th picture from the matrix\n",
    "    vector_uint8 = vector.astype(np.uint8)\n",
    "    shape = (pixel, pixel, 3)\n",
    "    reconstruct_arr = np.asarray(vector_uint8).reshape(shape)\n",
    "    reconstruct_img = Image.fromarray(reconstruct_arr, 'RGB')\n",
    "    reconstruct_img.show()"
   ]
  },
  {
   "cell_type": "code",
   "execution_count": 4,
   "metadata": {},
   "outputs": [
    {
     "name": "stdout",
     "output_type": "stream",
     "text": [
      "waldo_manual\\1.jpg\n",
      "waldo_manual\\10.jpg\n",
      "waldo_manual\\11.jpg\n",
      "waldo_manual\\12.jpg\n",
      "waldo_manual\\13.jpg\n",
      "waldo_manual\\14.jpg\n",
      "waldo_manual\\15.jpg\n",
      "waldo_manual\\16.jpg\n",
      "waldo_manual\\17.jpg\n",
      "waldo_manual\\18.jpg\n",
      "waldo_manual\\19.jpg\n",
      "waldo_manual\\2.jpg\n",
      "waldo_manual\\20.jpg\n",
      "waldo_manual\\21.jpg\n",
      "waldo_manual\\22.jpg\n",
      "waldo_manual\\23.jpg\n",
      "waldo_manual\\24.jpg\n",
      "waldo_manual\\25.jpg\n",
      "waldo_manual\\26.jpg\n",
      "waldo_manual\\27.jpg\n",
      "waldo_manual\\28.jpg\n",
      "waldo_manual\\3.jpg\n",
      "waldo_manual\\4.jpg\n",
      "waldo_manual\\5.jpg\n",
      "waldo_manual\\6.jpg\n",
      "waldo_manual\\7.jpg\n",
      "waldo_manual\\8.jpg\n",
      "waldo_manual\\9.jpg\n"
     ]
    },
    {
     "data": {
      "text/plain": [
       "(30000, 28)"
      ]
     },
     "execution_count": 4,
     "metadata": {},
     "output_type": "execute_result"
    }
   ],
   "source": [
    "pixel = 100\n",
    "num = 28\n",
    "data = vectorize(pixel, num, 'waldo_manual')\n",
    "data.shape"
   ]
  },
  {
   "cell_type": "markdown",
   "metadata": {},
   "source": [
    "### PCA"
   ]
  },
  {
   "cell_type": "code",
   "execution_count": 5,
   "metadata": {},
   "outputs": [],
   "source": [
    "def eigsort(V, eigvals):\n",
    "    \n",
    "    # Sort the eigenvalues from largest to smallest. Store the sorted\n",
    "    # eigenvalues in the column vector lambd.\n",
    "    lohival = np.sort(eigvals)\n",
    "    lohiindex = np.argsort(eigvals)\n",
    "    lambd = np.flip(lohival)\n",
    "    index = np.flip(lohiindex)\n",
    "    Dsort = np.diag(lambd)\n",
    "    \n",
    "    # Sort eigenvectors to correspond to the ordered eigenvalues. Store sorted\n",
    "    # eigenvectors as columns of the matrix vsort.\n",
    "    M = np.size(lambd)\n",
    "    Vsort = np.zeros((M, M))\n",
    "    for i in range(M):\n",
    "        Vsort[:,i] = V[:,index[i]]\n",
    "    return Vsort, Dsort"
   ]
  },
  {
   "cell_type": "code",
   "execution_count": 6,
   "metadata": {},
   "outputs": [],
   "source": [
    "# normc(M) normalizes the columns of M to a length of 1.\n",
    "def normc(Mat):\n",
    "    return normalize(Mat, norm='l2', axis=0)"
   ]
  },
  {
   "cell_type": "code",
   "execution_count": 7,
   "metadata": {},
   "outputs": [
    {
     "data": {
      "text/plain": [
       "array([[169.5       ],\n",
       "       [179.32142857],\n",
       "       [151.25      ],\n",
       "       ...,\n",
       "       [183.28571429],\n",
       "       [161.21428571],\n",
       "       [152.60714286]])"
      ]
     },
     "execution_count": 7,
     "metadata": {},
     "output_type": "execute_result"
    }
   ],
   "source": [
    "meanface = np.mean(data, axis=1)\n",
    "meanface = meanface[:, np.newaxis]\n",
    "meanface"
   ]
  },
  {
   "cell_type": "code",
   "execution_count": 8,
   "metadata": {},
   "outputs": [
    {
     "data": {
      "text/plain": [
       "(30000, 28)"
      ]
     },
     "execution_count": 8,
     "metadata": {},
     "output_type": "execute_result"
    }
   ],
   "source": [
    "(np.matlib.repmat(meanface, 1, num)).shape"
   ]
  },
  {
   "cell_type": "code",
   "execution_count": 9,
   "metadata": {},
   "outputs": [
    {
     "data": {
      "text/plain": [
       "(30000, 28)"
      ]
     },
     "execution_count": 9,
     "metadata": {},
     "output_type": "execute_result"
    }
   ],
   "source": [
    "data.shape"
   ]
  },
  {
   "cell_type": "code",
   "execution_count": 10,
   "metadata": {},
   "outputs": [],
   "source": [
    "# Subtract the mean from all of the data (using the command numpy.matlib.repmat), and call the matrix of mean-subtracted data A\n",
    "A = data - np.matlib.repmat(meanface, 1, num)"
   ]
  },
  {
   "cell_type": "code",
   "execution_count": 11,
   "metadata": {},
   "outputs": [],
   "source": [
    "eigvals, Vold = np.linalg.eig(A.T.dot(A))"
   ]
  },
  {
   "cell_type": "code",
   "execution_count": 12,
   "metadata": {},
   "outputs": [],
   "source": [
    "V, D = eigsort(Vold, eigvals)"
   ]
  },
  {
   "cell_type": "code",
   "execution_count": 13,
   "metadata": {},
   "outputs": [
    {
     "data": {
      "text/plain": [
       "(30000, 28)"
      ]
     },
     "execution_count": 13,
     "metadata": {},
     "output_type": "execute_result"
    }
   ],
   "source": [
    "U = A.dot(V)\n",
    "\n",
    "#then normalize\n",
    "U = normc(U)\n",
    "U.shape"
   ]
  },
  {
   "cell_type": "code",
   "execution_count": 14,
   "metadata": {},
   "outputs": [],
   "source": [
    "#PCA\n",
    "C = U.T.dot(data - meanface)"
   ]
  },
  {
   "cell_type": "markdown",
   "metadata": {},
   "source": [
    "### Reconstruction distance calculation"
   ]
  },
  {
   "cell_type": "code",
   "execution_count": 15,
   "metadata": {},
   "outputs": [],
   "source": [
    "# Ex. dist(data[:, i][:, np.newaxis], xhat)\n",
    "#   original is flattened col vector of a face\n",
    "def dist(original, reconstruction):\n",
    "    # return np.sum((original - reconstruction)**2)\n",
    "    return np.linalg.norm(reconstruction - original, axis=0)"
   ]
  },
  {
   "cell_type": "code",
   "execution_count": 16,
   "metadata": {},
   "outputs": [
    {
     "data": {
      "text/plain": [
       "<Figure size 432x288 with 0 Axes>"
      ]
     },
     "metadata": {},
     "output_type": "display_data"
    }
   ],
   "source": [
    "# reconstruct a randomly chosen Waldo image from the input matrix \"data\"\n",
    "i = random.randint(0, num-1)\n",
    "viewimage(data[:, i], pixel)\n",
    "plt.savefig(\"result/1_1_an_existing_to_reconstruct.jpg\")"
   ]
  },
  {
   "cell_type": "code",
   "execution_count": 17,
   "metadata": {},
   "outputs": [
    {
     "data": {
      "text/plain": [
       "<Figure size 432x288 with 0 Axes>"
      ]
     },
     "metadata": {},
     "output_type": "display_data"
    }
   ],
   "source": [
    "c=C[:,i][:, np.newaxis]\n",
    "xhat=U.dot(c) + meanface\n",
    "viewimage(xhat, pixel)\n",
    "plt.savefig(\"result/1_2_reconstructed_existing.jpg\")"
   ]
  },
  {
   "cell_type": "code",
   "execution_count": 18,
   "metadata": {},
   "outputs": [
    {
     "data": {
      "text/plain": [
       "array([2977.48954603])"
      ]
     },
     "execution_count": 18,
     "metadata": {},
     "output_type": "execute_result"
    }
   ],
   "source": [
    "original = data[:, i][:, np.newaxis]\n",
    "reconstruct_dist = dist(original, xhat)\n",
    "reconstruct_dist"
   ]
  },
  {
   "cell_type": "markdown",
   "metadata": {},
   "source": [
    "### Reconstruct after removing the 6th Waldo image"
   ]
  },
  {
   "cell_type": "code",
   "execution_count": 19,
   "metadata": {},
   "outputs": [
    {
     "data": {
      "text/plain": [
       "<Figure size 432x288 with 0 Axes>"
      ]
     },
     "metadata": {},
     "output_type": "display_data"
    }
   ],
   "source": [
    "viewimage(data[:,i], pixel) # i is randomly chosen in the above section\n",
    "plt.savefig(\"result/2_1_new_to_reconstruct.jpg\")"
   ]
  },
  {
   "cell_type": "code",
   "execution_count": 20,
   "metadata": {},
   "outputs": [
    {
     "data": {
      "text/plain": [
       "<Figure size 432x288 with 0 Axes>"
      ]
     },
     "metadata": {},
     "output_type": "display_data"
    }
   ],
   "source": [
    "newfaces = np.delete(data,np.s_[i],axis=1) \n",
    "newmeanface = np.mean(newfaces, axis=1, keepdims = True)\n",
    "A2 = newfaces - newmeanface\n",
    "\n",
    "eigvals2, Vold2 = np.linalg.eig(A2.T.dot(A2))\n",
    "V2, D2 = eigsort(Vold2, eigvals2)\n",
    "U2 = A2 @ V2\n",
    "U2 = normc(U2)\n",
    "c2 = U2.T.dot(data[:,i][:, np.newaxis] - meanface)\n",
    "xhat2 = U2.dot(c2) + meanface\n",
    "viewimage(xhat2, pixel)\n",
    "plt.savefig(\"result/2_2_reconstructed_new.jpg\")"
   ]
  },
  {
   "cell_type": "code",
   "execution_count": 21,
   "metadata": {},
   "outputs": [
    {
     "name": "stdout",
     "output_type": "stream",
     "text": [
      "reconstruct_missing_image_dist - reconstruct_dist = [9909.36670807] \n",
      "reconstruct_missing_image_dist > reconstruct_dist\n"
     ]
    }
   ],
   "source": [
    "original = data[:, i][:, np.newaxis]\n",
    "reconstruct_missing_image_dist = dist(original, xhat2)\n",
    "diff = reconstruct_missing_image_dist-reconstruct_dist\n",
    "print(\"reconstruct_missing_image_dist - reconstruct_dist =\", diff, \"\\nreconstruct_missing_image_dist > reconstruct_dist\")"
   ]
  },
  {
   "cell_type": "markdown",
   "metadata": {},
   "source": [
    "### Reconstruct a non-Waldo image"
   ]
  },
  {
   "cell_type": "code",
   "execution_count": 22,
   "metadata": {},
   "outputs": [],
   "source": [
    "f = 'non_waldo_manual/red.jpg'\n",
    "img = Image.open(f).convert('RGB')\n",
    "img_resized = img.resize((pixel, pixel))\n",
    "arr = np.array(img_resized)\n",
    "flat_arr = arr.ravel()\n",
    "v = np.matrix(flat_arr)\n",
    "nonWaldo = v.T\n",
    "viewimage(nonWaldo, pixel)\n",
    "# plt.savefig(\"result/3_1_red_shirt_to_reconstruct.jpg\")\n",
    "\n",
    "c3 = U.T.dot(nonWaldo - meanface)\n",
    "xhat3 = U.dot(c3) + meanface\n",
    "viewimage(xhat3, pixel)\n",
    "# plt.savefig(\"result/3_2_reconstructed_red_shirt.jpg\")\n",
    "reconstruct_red_dist = dist(original, xhat3)"
   ]
  },
  {
   "cell_type": "code",
   "execution_count": 23,
   "metadata": {},
   "outputs": [],
   "source": [
    "f = 'non_waldo_manual/glasses.jpg'\n",
    "img = Image.open(f).convert('RGB')\n",
    "img_resized = img.resize((pixel, pixel))\n",
    "arr = np.array(img_resized)\n",
    "flat_arr = arr.ravel()\n",
    "v = np.matrix(flat_arr)\n",
    "nonWaldo = v.T\n",
    "viewimage(nonWaldo, pixel)\n",
    "# plt.savefig(\"result/4_1_glasses_to_reconstruct.jpg\")\n",
    "\n",
    "c4 = U.T.dot(nonWaldo - meanface)\n",
    "xhat4 = U.dot(c4) + meanface\n",
    "viewimage(xhat4, pixel)\n",
    "# plt.savefig(\"result/4_2_reconstructed_glasses.jpg\")\n",
    "reconstruct_glasses_dist = dist(original, xhat4)"
   ]
  },
  {
   "cell_type": "code",
   "execution_count": 24,
   "metadata": {},
   "outputs": [
    {
     "name": "stdout",
     "output_type": "stream",
     "text": [
      "[2977.48954603] [12886.8562541] [20617.83941389] [20901.67860542]\n"
     ]
    }
   ],
   "source": [
    "print(reconstruct_dist, reconstruct_missing_image_dist, reconstruct_red_dist, reconstruct_glasses_dist)"
   ]
  },
  {
   "cell_type": "markdown",
   "metadata": {},
   "source": [
    "### Finding Waldo in a puzzle"
   ]
  },
  {
   "cell_type": "markdown",
   "metadata": {},
   "source": [
    "We will split the puzzle_test image into 25 boxes, with one box actually containing Waldo. We will calculate the reconstruction distance for each of the 25 boxes. If this is successful, the box containing Waldo should output the lowest reconstruction distance."
   ]
  },
  {
   "cell_type": "code",
   "execution_count": 25,
   "metadata": {},
   "outputs": [],
   "source": [
    "# the puzzle image is 500 by 500, breaking the puzzle image to 5 boxes length-/ row-wise and 5 boxes width-/ column-wise, so each is 100 by 100\n",
    "# the box with Waldo in it is aligned similar to how the training images are done\n",
    "f = 'puzzle_test/test.jpg'\n",
    "puzzle_pixel = 500\n",
    "img = Image.open(f).convert('RGB')\n",
    "img_resized = img.resize((puzzle_pixel, puzzle_pixel))\n",
    "arr = np.array(img_resized)\n",
    "\n",
    "box_ls = []\n",
    "row_ls = [0, 100, 200, 300, 400, 500]\n",
    "col_ls = [0, 100, 200, 300, 400, 500]\n",
    "for i in range(5):\n",
    "    for j in range(5):\n",
    "        box = arr[row_ls[i]:row_ls[i+1], row_ls[j]:row_ls[j+1]]\n",
    "        box_ls.append(box)"
   ]
  },
  {
   "cell_type": "markdown",
   "metadata": {},
   "source": [
    "Box 19 contains Waldo. "
   ]
  },
  {
   "cell_type": "code",
   "execution_count": 26,
   "metadata": {},
   "outputs": [
    {
     "name": "stdout",
     "output_type": "stream",
     "text": [
      "4.1 9706.139179094107\n"
     ]
    },
    {
     "data": {
      "image/png": "[encoded data removed]",
      "text/plain": [
       "<Figure size 432x288 with 1 Axes>"
      ]
     },
     "metadata": {
      "needs_background": "light"
     },
     "output_type": "display_data"
    }
   ],
   "source": [
    "# 19 is Waldo\n",
    "dist_ls = []\n",
    "for i in range(25):\n",
    "    flat_arr = box_ls[i].ravel()\n",
    "    v = np.matrix(flat_arr)\n",
    "    box_v = v.T\n",
    "    # viewimage(box_v, pixel)\n",
    "    c5 = U.T.dot(box_v - meanface)\n",
    "    xhat5 = U.dot(c5) + meanface\n",
    "    # viewimage(xhat5, pixel)\n",
    "    # sprint(box_v.shape, xhat5.shape)\n",
    "    euclidean_dist = dist(box_v, xhat5)\n",
    "    # dist_ls.append(np.linalg.norm(xhat5 - box_v))\n",
    "    dist_ls.append(euclidean_dist)\n",
    "\n",
    "\n",
    "data = {'box': [0, 1, 2, 3, 4, 5, 6, 7, 8, 9, 10, 11, 12, 13, 14, 15, 16, 17, 18, 19, 20, 21, 22, 23, 24],\n",
    "        'recon_dist': dist_ls}\n",
    "df = pd.DataFrame(data)\n",
    "\n",
    "min_x = np.argmin(data['recon_dist'])+0.1\n",
    "min_y = np.min(data['recon_dist'])\n",
    "plt.plot(df['box'], df['recon_dist'], marker='o');\n",
    "plt.scatter(min_x, min_y,c='r', label='minimum');\n",
    "plt.legend();\n",
    "plt.ylabel('reconstruction distance');\n",
    "plt.xlabel('box number');\n",
    "print(min_x, min_y)"
   ]
  },
  {
   "cell_type": "markdown",
   "metadata": {},
   "source": [
    "Although Box 19 contains Waldo, Box 4 has the lowest reconstruction distance.\n",
    "\n",
    "Box numbers 4, 17, and 22, all have very low reconstruction distances. The images are shown below."
   ]
  },
  {
   "cell_type": "code",
   "execution_count": 32,
   "metadata": {},
   "outputs": [
    {
     "data": {
      "text/plain": [
       "array([17884.74944035])"
      ]
     },
     "execution_count": 32,
     "metadata": {},
     "output_type": "execute_result"
    }
   ],
   "source": [
    "i = 4\n",
    "flat_arr = box_ls[i].ravel()\n",
    "v = np.matrix(flat_arr)\n",
    "box_v = v.T\n",
    "# viewimage(box_v, pixel)\n",
    "c6 = U.T.dot(box_v - meanface)\n",
    "xhat6 = U.dot(c6) + meanface\n",
    "# viewimage(xhat6, pixel)\n",
    "reconstruct_4th_box_dist = dist(original, xhat6)\n",
    "reconstruct_4th_box_dist"
   ]
  },
  {
   "cell_type": "code",
   "execution_count": 31,
   "metadata": {},
   "outputs": [
    {
     "data": {
      "text/plain": [
       "array([17884.74944035])"
      ]
     },
     "execution_count": 31,
     "metadata": {},
     "output_type": "execute_result"
    }
   ],
   "source": [
    "i = 17\n",
    "flat_arr = box_ls[i].ravel()\n",
    "v = np.matrix(flat_arr)\n",
    "box_v = v.T\n",
    "# viewimage(box_v, pixel)\n",
    "c7 = U.T.dot(box_v - meanface)\n",
    "xhat7 = U.dot(c7) + meanface\n",
    "# viewimage(xhat6, pixel)\n",
    "reconstruct_17th_box_dist = dist(original, xhat6)\n",
    "reconstruct_17th_box_dist"
   ]
  },
  {
   "cell_type": "code",
   "execution_count": 29,
   "metadata": {},
   "outputs": [
    {
     "data": {
      "text/plain": [
       "array([17884.74944035])"
      ]
     },
     "execution_count": 29,
     "metadata": {},
     "output_type": "execute_result"
    }
   ],
   "source": [
    "i = 22\n",
    "flat_arr = box_ls[i].ravel()\n",
    "v = np.matrix(flat_arr)\n",
    "box_v = v.T\n",
    "# viewimage(box_v, pixel)\n",
    "c8 = U.T.dot(box_v - meanface)\n",
    "xhat8 = U.dot(c8) + meanface\n",
    "# viewimage(xhat6, pixel)\n",
    "reconstruct_4th_box_dist = dist(original, xhat6)\n",
    "reconstruct_4th_box_dist"
   ]
  },
  {
   "cell_type": "markdown",
   "metadata": {},
   "source": [
    "Compare the boxes 4, 17, and 22 to box 19."
   ]
  },
  {
   "cell_type": "code",
   "execution_count": 33,
   "metadata": {},
   "outputs": [
    {
     "data": {
      "text/plain": [
       "array([18005.89814554])"
      ]
     },
     "execution_count": 33,
     "metadata": {},
     "output_type": "execute_result"
    }
   ],
   "source": [
    "i = 19\n",
    "flat_arr = box_ls[i].ravel()\n",
    "v = np.matrix(flat_arr)\n",
    "box_v = v.T\n",
    "viewimage(box_v, pixel)\n",
    "# plt.savefig(\"result/5_1_waldo_in_the_puzzle.jpg\")\n",
    "c9 = U.T.dot(box_v - meanface)\n",
    "xhat9 = U.dot(c9) + meanface\n",
    "viewimage(xhat9, pixel)\n",
    "# plt.savefig(\"result/5_2_reconstructed_waldo_in_the_puzzle.jpg\")\n",
    "reconstruct_19th_box_dist = dist(original, xhat9)\n",
    "reconstruct_19th_box_dist"
   ]
  },
  {
   "cell_type": "markdown",
   "metadata": {},
   "source": [
    "# Discussion \n",
    "Overall, our model for Finding Waldo did not work as planned. We attempted an original approach to explore how applying Principal Component Analysis (PCA) would impact our results compared to previous related work (HereIsWally, Wagner et al.). Unfortunately, our algorithm did not find Waldo, most likely due to certain limitations.  \n",
    "\n",
    "### Limitations\n",
    "In total, we encountered two main limitations. The first was the challenge to collect viable Where's Waldo images. During our efforts, we realized that many Where's Waldo images on the internet range in size, alignment, and resolution. Also, there was the difficulty of either finding Waldo ourselves or researching the solutions. With these challenges, we had a difficult time collecting enough images. We also found that our model would have a difficult time with images where Waldo was not positioned with a similar alignment to our reconstructed image of Waldo. For this reason, we were only able to apply our model to an image where Waldo was in similar alignment and size.\n",
    "\n",
    "The second limitation was lack of time. Had we had more time to find better images, do further training on the model, and tweak our model to perform better, we believe our model would have been successful in finding Waldo. We were also curious to explore the idea of using convolutional networks, such as in Wagner et al. 2013, but we did not have the time.\n",
    "\n",
    "### Comparison to Related Work\n",
    "In comparison to related works such as Wagner et al. and HereIsWally, our model was not a success. Although our model is built off of ideas from these works, our approach may have been to simplistic. Considering that using CNN has successfully found Waldo in other projects, using a convolutional network may help our model perform better (HereIsWally).\n",
    "\n",
    "### Future Improvements\n",
    "More time would be necessary to make our model work as intended. If we were to change anything, we would first work to build a much larger collection of Waldo images. We would aim for better-quality, higher resolution, and more diverse Waldo photos to improve the function of reconstruction. \n",
    "\n",
    "Instead of splitting the original image into boxes to run reconstruction on, we would try using convolutional networks. We hope that this would alleviate the problem of Waldo's differing alignment within the boxes, since the convolutional network works as a slider."
   ]
  },
  {
   "cell_type": "markdown",
   "metadata": {},
   "source": [
    "# Author Contribution\n",
    "| Task      | Assignee |\n",
    "| ----------- | ----------- |\n",
    "| Introduction writing     | Will       |\n",
    "| Related Work writing  | Will        |\n",
    "| Footnotes citation  | Lillian        |\n",
    "| Finding puzzles with answers and cropping out Waldo | Cardiff and Lillian        |\n",
    "| Vectorizing Images and methods writing   | Cardiff        |\n",
    "| PCA and methods writing      | Sara and Cardiff      |\n",
    "| Reconstruction Distance Function and methods writing   | Lillian and Taha and Cardiff        |\n",
    "| Comparison to Related Work writing      |    Lillian    |\n",
    "| Discussion writing  |  all     |\n",
    "| Editing | all |\n",
    "| Final review | Lillian |"
   ]
  },
  {
   "cell_type": "markdown",
   "metadata": {},
   "source": [
    "# Footnotes\n",
    "\n",
    "<a name=\"relatedwork\"></a>1.[^](#relatedwork): last name, first name. (year). name of article. article link<br>"
   ]
  }
 ],
 "metadata": {
  "kernelspec": {
   "display_name": "Python 3 (ipykernel)",
   "language": "python",
   "name": "python3"
  },
  "language_info": {
   "codemirror_mode": {
    "name": "ipython",
    "version": 3
   },
   "file_extension": ".py",
   "mimetype": "text/x-python",
   "name": "python",
   "nbconvert_exporter": "python",
   "pygments_lexer": "ipython3",
   "version": "3.9.12"
  },
  "vscode": {
   "interpreter": {
    "hash": "369f2c481f4da34e4445cda3fffd2e751bd1c4d706f27375911949ba6bb62e1c"
   }
  }
 },
 "nbformat": 4,
 "nbformat_minor": 2
}
