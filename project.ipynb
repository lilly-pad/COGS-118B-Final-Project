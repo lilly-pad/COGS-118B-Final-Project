{
 "cells": [
  {
   "cell_type": "code",
   "execution_count": null,
   "metadata": {},
   "outputs": [],
   "source": [
    "import numpy as np\n",
    "import scipy.io as sio\n",
    "import matplotlib\n",
    "import matplotlib.pyplot as plt\n",
    "from numpy.matlib import repmat\n",
    "from sklearn.preprocessing import normalize\n",
    "from sklearn.datasets import fetch_olivetti_faces\n",
    "import time\n",
    "from PIL import Image\n",
    "%matplotlib inline"
   ]
  },
  {
   "cell_type": "code",
   "execution_count": null,
   "metadata": {},
   "outputs": [],
   "source": [
    "# 11_3_3.jpg\n",
    "img = Image.open('21_0_0.jpg').convert('RGBA')\n",
    "arr = np.array(img)\n",
    "\n",
    "# record the original shape\n",
    "shape = arr.shape\n",
    "\n",
    "# make a 1-dimensional view of arr\n",
    "flat_arr = arr.ravel()\n",
    "\n",
    "# convert it to a matrix\n",
    "vector = np.matrix(flat_arr)\n",
    "\n",
    "# do something to the vector\n",
    "# vector[:,::10] = 128\n",
    "\n",
    "# reform a numpy array of the original shape\n",
    "arr2 = np.asarray(vector).reshape(shape)\n",
    "\n",
    "# make a PIL image\n",
    "img2 = Image.fromarray(arr2, 'RGBA')\n",
    "img2.show()"
   ]
  }
 ],
 "metadata": {
  "language_info": {
   "name": "python"
  },
  "orig_nbformat": 4
 },
 "nbformat": 4,
 "nbformat_minor": 2
}
