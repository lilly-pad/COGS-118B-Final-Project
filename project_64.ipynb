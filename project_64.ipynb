{
 "cells": [
  {
   "cell_type": "code",
   "execution_count": 1,
   "metadata": {},
   "outputs": [],
   "source": [
    "import numpy as np\n",
    "import scipy.io as sio\n",
    "import matplotlib\n",
    "import matplotlib.pyplot as plt\n",
    "from numpy.matlib import repmat\n",
    "from sklearn.preprocessing import normalize\n",
    "import time\n",
    "from PIL import Image\n",
    "import os\n",
    "%matplotlib inline"
   ]
  },
  {
   "cell_type": "code",
   "execution_count": 2,
   "metadata": {},
   "outputs": [],
   "source": [
    "img = Image.open('waldo/21_0_0.jpg').convert('RGBA')\n",
    "arr = np.array(img)\n",
    "\n",
    "# record the original shape\n",
    "shape = arr.shape\n",
    "\n",
    "# make a 1-dimensional view of arr\n",
    "flat_arr = arr.ravel()\n",
    "\n",
    "# convert it to a matrix\n",
    "vector = np.matrix(flat_arr)\n",
    "\n",
    "\n",
    "# Converting this vector back to the original image\n",
    "# reform a numpy array of the original shape\n",
    "reconstruct_arr = np.asarray(vector).reshape(shape)\n",
    "\n",
    "# make a PIL image\n",
    "reconstruct_img = Image.fromarray(reconstruct_arr, 'RGBA')\n",
    "reconstruct_img.show()\n"
   ]
  },
  {
   "cell_type": "code",
   "execution_count": 3,
   "metadata": {},
   "outputs": [],
   "source": [
    "# For the 31 Waldo pictures, each is turned into a 1 by 262144 row vector. So each row of this 31 by 262144 matrix is one of the pictures.\n",
    "waldo_pic_num = 31\n",
    "waldo_pic_dim = 262144\n",
    "waldo_input = np.empty((waldo_pic_num, waldo_pic_dim))\n",
    "dir = 'waldo'\n",
    "i = 0\n",
    "for filename in os.listdir(dir):\n",
    "    f = os.path.join(dir, filename)\n",
    "    img = Image.open(f).convert('RGBA')\n",
    "    arr = np.array(img)\n",
    "    shape = arr.shape\n",
    "    flat_arr = arr.ravel()\n",
    "    vector = np.matrix(flat_arr)\n",
    "    waldo_input[i, :] = vector\n",
    "    i += 1\n"
   ]
  },
  {
   "cell_type": "code",
   "execution_count": 4,
   "metadata": {},
   "outputs": [],
   "source": [
    "# Showing the 8th picture from the matrix\n",
    "n = 8\n",
    "vector = waldo_input[n, :]\n",
    "vector_uint8 = vector.astype(np.uint8)\n",
    "reconstruct_arr = np.asarray(vector_uint8).reshape(shape)\n",
    "reconstruct_img = Image.fromarray(reconstruct_arr, 'RGBA')\n",
    "reconstruct_img.show()"
   ]
  },
  {
   "cell_type": "code",
   "execution_count": null,
   "metadata": {},
   "outputs": [],
   "source": []
  }
 ],
 "metadata": {
  "kernelspec": {
   "display_name": "Python 3.9.12 ('base')",
   "language": "python",
   "name": "python3"
  },
  "language_info": {
   "codemirror_mode": {
    "name": "ipython",
    "version": 3
   },
   "file_extension": ".py",
   "mimetype": "text/x-python",
   "name": "python",
   "nbconvert_exporter": "python",
   "pygments_lexer": "ipython3",
   "version": "3.9.12"
  },
  "orig_nbformat": 4,
  "vscode": {
   "interpreter": {
    "hash": "4574fb2ed16378066aa88530b0fe97ddb2e1e8383d88b7345b999eebf304090a"
   }
  }
 },
 "nbformat": 4,
 "nbformat_minor": 2
}
